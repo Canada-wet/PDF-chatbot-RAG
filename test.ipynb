{
 "cells": [
  {
   "cell_type": "code",
   "execution_count": 1,
   "metadata": {},
   "outputs": [],
   "source": [
    "#import Essential dependencies\n",
    "import streamlit as sl\n",
    "from langchain_community.vectorstores import FAISS\n",
    "from langchain_openai import OpenAIEmbeddings\n",
    "from langchain.chains import RetrievalQA\n",
    "from langchain.prompts import ChatPromptTemplate\n",
    "from langchain_core.output_parsers import StrOutputParser\n",
    "from langchain_core.runnables import RunnablePassthrough\n",
    "from langchain.embeddings import HuggingFaceEmbeddings\n",
    "from langchain.document_transformers import EmbeddingsRedundantFilter\n",
    "from langchain.retrievers.document_compressors import EmbeddingsFilter,DocumentCompressorPipeline\n",
    "from langchain.retrievers import ContextualCompressionRetriever, BM25Retriever, EnsembleRetriever\n",
    "from utils.helper_funcs import update_vectordb\n",
    "\n",
    "from dotenv import load_dotenv\n",
    "import os\n",
    "import numpy as np\n",
    "\n",
    "\n",
    "\n",
    "load_dotenv()\n",
    "openai_api_key = os.getenv('OPENAI_API_KEY')"
   ]
  },
  {
   "cell_type": "code",
   "execution_count": 2,
   "metadata": {},
   "outputs": [],
   "source": [
    "#function to load the vectordatabase\n",
    "def load_knowledgeBase(db_path = 'vectorstore/db_faiss'):\n",
    "        embeddings=OpenAIEmbeddings(api_key=openai_api_key)\n",
    "        DB_FAISS_PATH = db_path\n",
    "        db = FAISS.load_local(DB_FAISS_PATH, embeddings,allow_dangerous_deserialization=True)\n",
    "        return db"
   ]
  },
  {
   "cell_type": "code",
   "execution_count": 4,
   "metadata": {},
   "outputs": [],
   "source": [
    "faqBase=load_knowledgeBase(db_path='vectorstore/faq_db_faiss')"
   ]
  },
  {
   "cell_type": "code",
   "execution_count": 7,
   "metadata": {},
   "outputs": [
    {
     "data": {
      "text/plain": [
       "[(Document(metadata={'index': 0}, page_content='What are the primary types of learning in machine learning as mentioned in the document?'),\n",
       "  0.08541322),\n",
       " (Document(metadata={'index': 2}, page_content=\"What role does the concept of 'Generalization' play in machine learning according to the lecture notes?\"),\n",
       "  0.34498447),\n",
       " (Document(metadata={'index': 4}, page_content='What is the PAC (Probably Approximately Correct) learning framework and how is it applied?'),\n",
       "  0.45885247),\n",
       " (Document(metadata={'index': 1}, page_content='Can you explain the concept of VC (Vapnik-Chervonenkis) dimension as described in the text?'),\n",
       "  0.460361)]"
      ]
     },
     "execution_count": 7,
     "metadata": {},
     "output_type": "execute_result"
    }
   ],
   "source": [
    "faqBase.similarity_search_with_score('Tell me the primary types of learning in machine learning')"
   ]
  },
  {
   "cell_type": "code",
   "execution_count": 8,
   "metadata": {},
   "outputs": [],
   "source": [
    "test_faq_search = faqBase.similarity_search_with_score('Tell me the primary types of learning in machine learning')"
   ]
  },
  {
   "cell_type": "code",
   "execution_count": 11,
   "metadata": {},
   "outputs": [
    {
     "data": {
      "text/plain": [
       "['What are the primary types of learning in machine learning as mentioned in the document?']"
      ]
     },
     "execution_count": 11,
     "metadata": {},
     "output_type": "execute_result"
    }
   ],
   "source": [
    "[doc.page_content for doc,score in test_faq_search if score<0.1]"
   ]
  },
  {
   "cell_type": "code",
   "execution_count": 13,
   "metadata": {},
   "outputs": [
    {
     "data": {
      "text/plain": [
       "[0]"
      ]
     },
     "execution_count": 13,
     "metadata": {},
     "output_type": "execute_result"
    }
   ],
   "source": [
    "[doc.metadata['index'] for doc,score in test_faq_search if score<0.1]"
   ]
  },
  {
   "cell_type": "code",
   "execution_count": 6,
   "metadata": {},
   "outputs": [
    {
     "data": {
      "text/plain": [
       "[(Document(metadata={'index': 0}, page_content='What are the primary types of learning in machine learning as mentioned in the document?'),\n",
       "  1.6949681e-06),\n",
       " (Document(metadata={'index': 2}, page_content=\"What role does the concept of 'Generalization' play in machine learning according to the lecture notes?\"),\n",
       "  0.31574348),\n",
       " (Document(metadata={'index': 3}, page_content='Describe the ID3 algorithm for decision trees as outlined in the document.'),\n",
       "  0.39827502),\n",
       " (Document(metadata={'index': 1}, page_content='Can you explain the concept of VC (Vapnik-Chervonenkis) dimension as described in the text?'),\n",
       "  0.42294154)]"
      ]
     },
     "execution_count": 6,
     "metadata": {},
     "output_type": "execute_result"
    }
   ],
   "source": [
    "faqBase.similarity_search_with_score('What are the primary types of learning in machine learning as mentioned in the document?')"
   ]
  },
  {
   "cell_type": "code",
   "execution_count": null,
   "metadata": {},
   "outputs": [],
   "source": []
  }
 ],
 "metadata": {
  "kernelspec": {
   "display_name": "bmo_case",
   "language": "python",
   "name": "python3"
  },
  "language_info": {
   "codemirror_mode": {
    "name": "ipython",
    "version": 3
   },
   "file_extension": ".py",
   "mimetype": "text/x-python",
   "name": "python",
   "nbconvert_exporter": "python",
   "pygments_lexer": "ipython3",
   "version": "3.11.9"
  }
 },
 "nbformat": 4,
 "nbformat_minor": 2
}
